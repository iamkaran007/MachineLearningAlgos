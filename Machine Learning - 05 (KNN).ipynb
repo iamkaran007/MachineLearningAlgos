{
 "cells": [
  {
   "cell_type": "code",
   "execution_count": 1,
   "metadata": {},
   "outputs": [],
   "source": [
    "import numpy as np\n",
    "# inputs, x --> feature\n",
    "# y = labels\n",
    "# It's an classification and supervised learning algorithm"
   ]
  },
  {
   "cell_type": "code",
   "execution_count": 2,
   "metadata": {},
   "outputs": [
    {
     "name": "stdout",
     "output_type": "stream",
     "text": [
      "5.196152422706632\n"
     ]
    }
   ],
   "source": [
    "#Euclidean distance(l2)\n",
    "#(x1,y1) ,(x2,y2), avoid using scalar, try using vector forms\n",
    "\n",
    "a = [1,2,3]\n",
    "b = [4,5,6]\n",
    "\n",
    "a = np.array(a)\n",
    "b = np.array(b)\n",
    "\n",
    "L2dist = (np.sum((b-a)**2))**0.5\n",
    "print(L2dist)"
   ]
  },
  {
   "cell_type": "code",
   "execution_count": 3,
   "metadata": {},
   "outputs": [
    {
     "name": "stdout",
     "output_type": "stream",
     "text": [
      "9\n"
     ]
    }
   ],
   "source": [
    "#Manhattan (L1)\n",
    "\n",
    "L1dist = np.sum(abs(a-b)) # but when we do a-b, we will get -9. So, we will take an absolute value\n",
    "print(L1dist)"
   ]
  },
  {
   "cell_type": "code",
   "execution_count": 4,
   "metadata": {},
   "outputs": [],
   "source": [
    "import numpy as np\n",
    "import matplotlib.pyplot as plt\n",
    "%matplotlib inline"
   ]
  },
  {
   "cell_type": "code",
   "execution_count": 5,
   "metadata": {},
   "outputs": [
    {
     "name": "stdout",
     "output_type": "stream",
     "text": [
      "(500, 2)\n",
      "(500, 2)\n"
     ]
    }
   ],
   "source": [
    "mean1 = np.array([1,0])\n",
    "\n",
    "cov1 = np.array([[1,0.1],[0.1,1.2]]) # covariace for 2 dimension # it tells how much data us spread in both direction 1 --> horixontal, beech wale 0.1--> diagonal and last waala 1.2 --> vertical\n",
    "\n",
    "dist1 = np.random.multivariate_normal(mean1,cov1,500) # 500 are no of data points to be generated\n",
    "print(dist1.shape) # 500 samples and 2 features W & R\n",
    "\n",
    "mean2 = np.array([4,5])\n",
    "\n",
    "cov2 = np.array([[1,0.1],[0.1,1.2]])\n",
    "\n",
    "dist2 = np.random.multivariate_normal(mean2,cov2,500)\n",
    "print(dist2.shape)"
   ]
  },
  {
   "cell_type": "code",
   "execution_count": 25,
   "metadata": {},
   "outputs": [],
   "source": [
    "# we need to pass one values as x and other as y in scatter plot"
   ]
  },
  {
   "cell_type": "code",
   "execution_count": 6,
   "metadata": {},
   "outputs": [
    {
     "data": {
      "image/png": "[encoded data removed]",
      "text/plain": [
       "<Figure size 432x288 with 1 Axes>"
      ]
     },
     "metadata": {
      "needs_background": "light"
     },
     "output_type": "display_data"
    }
   ],
   "source": [
    "plt.xlim(-5,10)\n",
    "plt.ylim(-5,10)\n",
    "\n",
    "plt.scatter(dist1[:,0],dist1[:,1])\n",
    "plt.scatter(dist2[:,0],dist2[:,1])\n",
    "\n",
    "plt.show()"
   ]
  },
  {
   "cell_type": "code",
   "execution_count": 7,
   "metadata": {},
   "outputs": [
    {
     "name": "stdout",
     "output_type": "stream",
     "text": [
      "(1000, 3)\n"
     ]
    },
    {
     "data": {
      "text/plain": [
       "array([2.45481233, 2.41626796, 0.5       ])"
      ]
     },
     "execution_count": 7,
     "metadata": {},
     "output_type": "execute_result"
    }
   ],
   "source": [
    "data = np.zeros((1000,3))\n",
    "\n",
    "data[:500,:2] = dist1\n",
    "\n",
    "data[500:,:2] = dist2\n",
    "\n",
    "data[500:,-1] = 1\n",
    "\n",
    "print(data.shape)\n",
    "data.mean(axis=0)"
   ]
  },
  {
   "cell_type": "code",
   "execution_count": 8,
   "metadata": {},
   "outputs": [
    {
     "name": "stdout",
     "output_type": "stream",
     "text": [
      "[[ 0.94100978 -0.48398587  0.        ]\n",
      " [-0.08933607  0.89849697  0.        ]\n",
      " [ 1.35150294  1.86071271  0.        ]\n",
      " [ 0.11080529 -0.35828199  0.        ]\n",
      " [ 1.49719641  1.01243839  0.        ]\n",
      " [-0.12336772 -1.04472523  0.        ]\n",
      " [ 0.61479299 -0.23362559  0.        ]\n",
      " [ 1.53613886 -1.21526154  0.        ]\n",
      " [ 2.10649293  0.11864722  0.        ]\n",
      " [ 0.71807573  0.75317503  0.        ]]\n",
      "[[ 5.03105928  6.2625547   1.        ]\n",
      " [ 3.76378644  6.12194926  1.        ]\n",
      " [ 3.41166657  3.48240326  1.        ]\n",
      " [ 3.88033855  5.0875353   1.        ]\n",
      " [ 1.43759382  2.70460967  0.        ]\n",
      " [ 1.72857266 -0.13964769  0.        ]\n",
      " [ 6.31799587  8.27879198  1.        ]\n",
      " [ 0.34649974 -0.12568495  0.        ]\n",
      " [ 3.09203521  8.0598348   1.        ]\n",
      " [ 1.55070865 -0.30239569  0.        ]]\n"
     ]
    }
   ],
   "source": [
    "print(data[:10])\n",
    "np.random.shuffle(data) #It shuffles the rows order\n",
    "print(data[:10])"
   ]
  },
  {
   "cell_type": "code",
   "execution_count": 9,
   "metadata": {},
   "outputs": [],
   "source": [
    "def distance(a,b):\n",
    "    return (np.sum((b-a)**2))**0.5  #x-train --> r&w and y-train me output labels"
   ]
  },
  {
   "cell_type": "code",
   "execution_count": 10,
   "metadata": {},
   "outputs": [],
   "source": [
    "def knn(x_train,y_train,test_point,k=7):\n",
    "    vals=[]\n",
    "    \n",
    "    for i in range(x_train.shape[0]):\n",
    "        d = distance(x_train[i],test_point)\n",
    "        vals.append([d,y_train[i]])\n",
    "    \n",
    "    sorted_labels = sorted(vals,key=lambda r : r[0])\n",
    "    neighbors = np.asarray(sorted_labels)[:k,-1] # using this it will use the same sorted_labels list, and so it will save the memory\n",
    "    \n",
    "    #print(neighbors)\n",
    "    \n",
    "    freq = np.unique(neighbors,return_counts=True)\n",
    "    #print(freq)\n",
    "    index= freq[1].argmax()  # It will return the index of maximum value\n",
    "    return freq[0][index]\n"
   ]
  },
  {
   "cell_type": "code",
   "execution_count": 18,
   "metadata": {},
   "outputs": [
    {
     "data": {
      "text/plain": [
       "0.0"
      ]
     },
     "execution_count": 18,
     "metadata": {},
     "output_type": "execute_result"
    }
   ],
   "source": [
    "x_train = data[:,:2]\n",
    "\n",
    "y_train = data[:,-1]\n",
    "\n",
    "test_point = np.array([1,2])\n",
    "\n",
    "knn(x_train,y_train,test_point)"
   ]
  },
  {
   "cell_type": "code",
   "execution_count": 19,
   "metadata": {},
   "outputs": [
    {
     "name": "stdout",
     "output_type": "stream",
     "text": [
      "(750, 2) (750,) (250, 2) (250,)\n"
     ]
    }
   ],
   "source": [
    "split = int((0.75 * data.shape[0]))\n",
    "\n",
    "x_train = data[:split,:2]\n",
    "y_train = data[:split,-1]\n",
    "\n",
    "x_test = data[split:,:2]\n",
    "y_test = data[split:,-1]\n",
    "\n",
    "print(x_train.shape,y_train.shape,x_test.shape,y_test.shape)\n"
   ]
  },
  {
   "cell_type": "code",
   "execution_count": 20,
   "metadata": {},
   "outputs": [],
   "source": [
    "def acc(k): # k is called as hyper-parameter\n",
    "    \n",
    "    predictions = []\n",
    "    \n",
    "    for i in range(x_test.shape[0]):\n",
    "        \n",
    "        test_point = x_test[i]\n",
    "        \n",
    "        predicted_label = knn(x_train,y_train,test_point,k)\n",
    "        predictions.append(predicted_label)\n",
    "    \n",
    "    preds = np.asarray(predictions)\n",
    "    #print(y_test == preds)\n",
    "    \n",
    "    return 100 * (y_test == preds).sum() / preds.shape[0]\n",
    "                "
   ]
  },
  {
   "cell_type": "code",
   "execution_count": 21,
   "metadata": {},
   "outputs": [
    {
     "name": "stdout",
     "output_type": "stream",
     "text": [
      " For k =1 acc=100.0\n",
      " For k =2 acc=100.0\n",
      " For k =3 acc=100.0\n",
      " For k =4 acc=100.0\n",
      " For k =5 acc=100.0\n",
      " For k =6 acc=100.0\n",
      " For k =7 acc=100.0\n",
      " For k =8 acc=100.0\n",
      " For k =9 acc=100.0\n"
     ]
    }
   ],
   "source": [
    "for k in range(1,10):\n",
    "    print(f\" For k ={k} acc={acc(k)}\")"
   ]
  },
  {
   "cell_type": "code",
   "execution_count": null,
   "metadata": {},
   "outputs": [],
   "source": []
  },
  {
   "cell_type": "code",
   "execution_count": 35,
   "metadata": {},
   "outputs": [],
   "source": [
    "import sklearn"
   ]
  },
  {
   "cell_type": "code",
   "execution_count": 36,
   "metadata": {},
   "outputs": [],
   "source": [
    "from sklearn.neighbors import KNeighborsClassifier"
   ]
  },
  {
   "cell_type": "code",
   "execution_count": 37,
   "metadata": {},
   "outputs": [
    {
     "data": {
      "text/plain": [
       "0.996"
      ]
     },
     "execution_count": 37,
     "metadata": {},
     "output_type": "execute_result"
    }
   ],
   "source": [
    "neigh = KNeighborsClassifier(n_neighbors=5)\n",
    "neigh.fit(x_train,y_train)\n",
    "neigh.score(x_test,y_test)"
   ]
  },
  {
   "cell_type": "code",
   "execution_count": null,
   "metadata": {},
   "outputs": [],
   "source": []
  },
  {
   "cell_type": "code",
   "execution_count": null,
   "metadata": {},
   "outputs": [],
   "source": []
  },
  {
   "cell_type": "code",
   "execution_count": null,
   "metadata": {},
   "outputs": [],
   "source": []
  },
  {
   "cell_type": "code",
   "execution_count": null,
   "metadata": {},
   "outputs": [],
   "source": []
  }
 ],
 "metadata": {
  "kernelspec": {
   "display_name": "Python 3",
   "language": "python",
   "name": "python3"
  },
  "language_info": {
   "codemirror_mode": {
    "name": "ipython",
    "version": 3
   },
   "file_extension": ".py",
   "mimetype": "text/x-python",
   "name": "python",
   "nbconvert_exporter": "python",
   "pygments_lexer": "ipython3",
   "version": "3.7.1"
  }
 },
 "nbformat": 4,
 "nbformat_minor": 2
}
