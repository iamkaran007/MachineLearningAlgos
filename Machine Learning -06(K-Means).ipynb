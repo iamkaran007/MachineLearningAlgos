{
 "cells": [
  {
   "cell_type": "code",
   "execution_count": 1,
   "metadata": {},
   "outputs": [],
   "source": [
    "# It is a type of unsupervised learning, so there is no label"
   ]
  },
  {
   "cell_type": "code",
   "execution_count": 1,
   "metadata": {},
   "outputs": [],
   "source": [
    "import numpy as np\n",
    "import matplotlib.pyplot as plt\n",
    "\n",
    "%matplotlib inline"
   ]
  },
  {
   "cell_type": "code",
   "execution_count": 7,
   "metadata": {},
   "outputs": [
    {
     "data": {
      "text/plain": [
       "array([ 20, 100, 100])"
      ]
     },
     "execution_count": 7,
     "metadata": {},
     "output_type": "execute_result"
    }
   ],
   "source": [
    "np.random.choice([10,20,30,100,40],3)"
   ]
  },
  {
   "cell_type": "code",
   "execution_count": 5,
   "metadata": {},
   "outputs": [],
   "source": [
    "# it will stop, when the centroids stop updating\n",
    "\n",
    "def kmeans(X,K,maxiters=1000):  # X are the data points have(no of trainng ex,2), k -- no of centroids\n",
    "     \n",
    "    centroids = X[np.random.choice(np.arange(len(X)),K),:] \n",
    "   # C=[]\n",
    "    for i in range(maxiters):\n",
    "        C=[]\n",
    "        for x_i in X:\n",
    "            distances =[]\n",
    "            for y_k in centroids:\n",
    "                #print(x_i.shape,y_k.shape)\n",
    "                d = np.dot(x_i-y_k,x_i-y_k)  ## all the things gets positive and its an L2 distance\n",
    "                distances.append(d)\n",
    "            centroid = np.argmin(distances)\n",
    "            \n",
    "            C.append(centroid)\n",
    "        C = np.array(C)\n",
    "     #C = [np.argmin([np.dot(x_i-y_k,x_i-y_k)for y_k in centroids])for x_i in X]   \n",
    "     #C = np.array(C)\n",
    "        \n",
    "        \n",
    "        centroids = [ X[C==k].mean(axis=0) for k in range(K)] ## --> lets say 0-->300, 1-->300, 2 --> 400 [(300,2),(300,2),(400,2)]\n",
    "        # now centroid dimension is (3,2) --> avg radius and avg weight and the VECTORIZATION is done in numpy not in python, thats why we are fetting an error\n",
    "    return np.array(centroids),C"
   ]
  },
  {
   "cell_type": "code",
   "execution_count": 3,
   "metadata": {},
   "outputs": [
    {
     "name": "stderr",
     "output_type": "stream",
     "text": [
      "C:\\Users\\Dell\\Anaconda3\\lib\\site-packages\\ipykernel_launcher.py:5: RuntimeWarning: covariance is not symmetric positive-semidefinite.\n",
      "  \"\"\"\n",
      "C:\\Users\\Dell\\Anaconda3\\lib\\site-packages\\ipykernel_launcher.py:7: RuntimeWarning: covariance is not symmetric positive-semidefinite.\n",
      "  import sys\n"
     ]
    }
   ],
   "source": [
    "m1,cov1 = [9,8],[[1.5,2],[1,2]]\n",
    "m2,cov2 = [5,13],[[2.5,-1.5],[-1.5,1.5]]\n",
    "m3,cov3 = [3,7],[[0.25,0.5],[-0.1,0.5]]\n",
    "\n",
    "data1 = np.random.multivariate_normal(m1,cov1,250)\n",
    "data2 = np.random.multivariate_normal(m2,cov2,180)\n",
    "data3 = np.random.multivariate_normal(m3,cov3,100)\n",
    "\n",
    "\n",
    "X=np.vstack((data3,np.vstack((data1,data2)))) # same as concat in pandas\n",
    "np.random.shuffle(X)"
   ]
  },
  {
   "cell_type": "code",
   "execution_count": 6,
   "metadata": {},
   "outputs": [],
   "source": [
    "centroids,C = kmeans(X,3)"
   ]
  },
  {
   "cell_type": "code",
   "execution_count": 46,
   "metadata": {},
   "outputs": [
    {
     "data": {
      "text/plain": [
       "array([[ 3.14041555,  6.87530531],\n",
       "       [ 4.88187919, 13.1211672 ],\n",
       "       [ 8.8921308 ,  7.86695705]])"
      ]
     },
     "execution_count": 46,
     "metadata": {},
     "output_type": "execute_result"
    }
   ],
   "source": [
    "centroids"
   ]
  },
  {
   "cell_type": "code",
   "execution_count": 48,
   "metadata": {},
   "outputs": [
    {
     "data": {
      "image/png": "[encoded data removed]",
      "text/plain": [
       "<Figure size 432x288 with 1 Axes>"
      ]
     },
     "metadata": {
      "needs_background": "light"
     },
     "output_type": "display_data"
    }
   ],
   "source": [
    "plt.scatter(X[:,0],X[:,-1])\n",
    "plt.plot(centroids[:,0],centroids[:,-1],'r*',markersize=20)\n",
    "plt.show()"
   ]
  },
  {
   "cell_type": "code",
   "execution_count": 49,
   "metadata": {},
   "outputs": [],
   "source": [
    "## Instead of finding the error, we find out whats the loss in it. for loss calculate the distance between centroid and all points\n",
    "## so, as far the point is away from centroid, more is loss"
   ]
  },
  {
   "cell_type": "code",
   "execution_count": null,
   "metadata": {},
   "outputs": [],
   "source": []
  },
  {
   "cell_type": "code",
   "execution_count": null,
   "metadata": {},
   "outputs": [],
   "source": []
  }
 ],
 "metadata": {
  "kernelspec": {
   "display_name": "Python 3",
   "language": "python",
   "name": "python3"
  },
  "language_info": {
   "codemirror_mode": {
    "name": "ipython",
    "version": 3
   },
   "file_extension": ".py",
   "mimetype": "text/x-python",
   "name": "python",
   "nbconvert_exporter": "python",
   "pygments_lexer": "ipython3",
   "version": "3.7.1"
  }
 },
 "nbformat": 4,
 "nbformat_minor": 2
}
